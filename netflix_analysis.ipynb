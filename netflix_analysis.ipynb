{
 "cells": [
  {
   "cell_type": "code",
   "execution_count": 1,
   "id": "9f6b9ed6",
   "metadata": {},
   "outputs": [],
   "source": [
    "import pandas as pd\n",
    "url = 'https://drive.google.com/uc?id=1bybQ1r-oXo7Zlf8f-aPCggyVRGs378PS&export=download'\n",
    "data = pd.read_csv(url)                     # to import pandas library"
   ]
  },
  {
   "cell_type": "code",
   "execution_count": 2,
   "id": "ec486327",
   "metadata": {},
   "outputs": [],
   "source": [
    "df=pd.DataFrame(data)"
   ]
  },
  {
   "cell_type": "code",
   "execution_count": 3,
   "id": "c8479760",
   "metadata": {},
   "outputs": [
    {
     "data": {
      "text/html": [
       "<div>\n",
       "<style scoped>\n",
       "    .dataframe tbody tr th:only-of-type {\n",
       "        vertical-align: middle;\n",
       "    }\n",
       "\n",
       "    .dataframe tbody tr th {\n",
       "        vertical-align: top;\n",
       "    }\n",
       "\n",
       "    .dataframe thead th {\n",
       "        text-align: right;\n",
       "    }\n",
       "</style>\n",
       "<table border=\"1\" class=\"dataframe\">\n",
       "  <thead>\n",
       "    <tr style=\"text-align: right;\">\n",
       "      <th></th>\n",
       "      <th>Show_Id</th>\n",
       "      <th>Category</th>\n",
       "      <th>Title</th>\n",
       "      <th>Director</th>\n",
       "      <th>Cast</th>\n",
       "      <th>Country</th>\n",
       "      <th>Release_Date</th>\n",
       "      <th>Rating</th>\n",
       "      <th>Duration</th>\n",
       "      <th>Type</th>\n",
       "      <th>Description</th>\n",
       "    </tr>\n",
       "  </thead>\n",
       "  <tbody>\n",
       "    <tr>\n",
       "      <th>0</th>\n",
       "      <td>s1</td>\n",
       "      <td>TV Show</td>\n",
       "      <td>3%</td>\n",
       "      <td>NaN</td>\n",
       "      <td>João Miguel, Bianca Comparato, Michel Gomes, R...</td>\n",
       "      <td>Brazil</td>\n",
       "      <td>August 14, 2020</td>\n",
       "      <td>TV-MA</td>\n",
       "      <td>4 Seasons</td>\n",
       "      <td>International TV Shows, TV Dramas, TV Sci-Fi &amp;...</td>\n",
       "      <td>In a future where the elite inhabit an island ...</td>\n",
       "    </tr>\n",
       "    <tr>\n",
       "      <th>1</th>\n",
       "      <td>s2</td>\n",
       "      <td>Movie</td>\n",
       "      <td>07:19</td>\n",
       "      <td>Jorge Michel Grau</td>\n",
       "      <td>Demián Bichir, Héctor Bonilla, Oscar Serrano, ...</td>\n",
       "      <td>Mexico</td>\n",
       "      <td>December 23, 2016</td>\n",
       "      <td>TV-MA</td>\n",
       "      <td>93 min</td>\n",
       "      <td>Dramas, International Movies</td>\n",
       "      <td>After a devastating earthquake hits Mexico Cit...</td>\n",
       "    </tr>\n",
       "    <tr>\n",
       "      <th>2</th>\n",
       "      <td>s3</td>\n",
       "      <td>Movie</td>\n",
       "      <td>23:59</td>\n",
       "      <td>Gilbert Chan</td>\n",
       "      <td>Tedd Chan, Stella Chung, Henley Hii, Lawrence ...</td>\n",
       "      <td>Singapore</td>\n",
       "      <td>December 20, 2018</td>\n",
       "      <td>R</td>\n",
       "      <td>78 min</td>\n",
       "      <td>Horror Movies, International Movies</td>\n",
       "      <td>When an army recruit is found dead, his fellow...</td>\n",
       "    </tr>\n",
       "    <tr>\n",
       "      <th>3</th>\n",
       "      <td>s4</td>\n",
       "      <td>Movie</td>\n",
       "      <td>9</td>\n",
       "      <td>Shane Acker</td>\n",
       "      <td>Elijah Wood, John C. Reilly, Jennifer Connelly...</td>\n",
       "      <td>United States</td>\n",
       "      <td>November 16, 2017</td>\n",
       "      <td>PG-13</td>\n",
       "      <td>80 min</td>\n",
       "      <td>Action &amp; Adventure, Independent Movies, Sci-Fi...</td>\n",
       "      <td>In a postapocalyptic world, rag-doll robots hi...</td>\n",
       "    </tr>\n",
       "    <tr>\n",
       "      <th>4</th>\n",
       "      <td>s5</td>\n",
       "      <td>Movie</td>\n",
       "      <td>21</td>\n",
       "      <td>Robert Luketic</td>\n",
       "      <td>Jim Sturgess, Kevin Spacey, Kate Bosworth, Aar...</td>\n",
       "      <td>United States</td>\n",
       "      <td>January 1, 2020</td>\n",
       "      <td>PG-13</td>\n",
       "      <td>123 min</td>\n",
       "      <td>Dramas</td>\n",
       "      <td>A brilliant group of students become card-coun...</td>\n",
       "    </tr>\n",
       "  </tbody>\n",
       "</table>\n",
       "</div>"
      ],
      "text/plain": [
       "  Show_Id Category  Title           Director  \\\n",
       "0      s1  TV Show     3%                NaN   \n",
       "1      s2    Movie  07:19  Jorge Michel Grau   \n",
       "2      s3    Movie  23:59       Gilbert Chan   \n",
       "3      s4    Movie      9        Shane Acker   \n",
       "4      s5    Movie     21     Robert Luketic   \n",
       "\n",
       "                                                Cast        Country  \\\n",
       "0  João Miguel, Bianca Comparato, Michel Gomes, R...         Brazil   \n",
       "1  Demián Bichir, Héctor Bonilla, Oscar Serrano, ...         Mexico   \n",
       "2  Tedd Chan, Stella Chung, Henley Hii, Lawrence ...      Singapore   \n",
       "3  Elijah Wood, John C. Reilly, Jennifer Connelly...  United States   \n",
       "4  Jim Sturgess, Kevin Spacey, Kate Bosworth, Aar...  United States   \n",
       "\n",
       "        Release_Date Rating   Duration  \\\n",
       "0    August 14, 2020  TV-MA  4 Seasons   \n",
       "1  December 23, 2016  TV-MA     93 min   \n",
       "2  December 20, 2018      R     78 min   \n",
       "3  November 16, 2017  PG-13     80 min   \n",
       "4    January 1, 2020  PG-13    123 min   \n",
       "\n",
       "                                                Type  \\\n",
       "0  International TV Shows, TV Dramas, TV Sci-Fi &...   \n",
       "1                       Dramas, International Movies   \n",
       "2                Horror Movies, International Movies   \n",
       "3  Action & Adventure, Independent Movies, Sci-Fi...   \n",
       "4                                             Dramas   \n",
       "\n",
       "                                         Description  \n",
       "0  In a future where the elite inhabit an island ...  \n",
       "1  After a devastating earthquake hits Mexico Cit...  \n",
       "2  When an army recruit is found dead, his fellow...  \n",
       "3  In a postapocalyptic world, rag-doll robots hi...  \n",
       "4  A brilliant group of students become card-coun...  "
      ]
     },
     "execution_count": 3,
     "metadata": {},
     "output_type": "execute_result"
    }
   ],
   "source": [
    "df.head()"
   ]
  },
  {
   "cell_type": "markdown",
   "id": "d9aa79ee",
   "metadata": {},
   "source": [
    "# Answer the following question after doing your analysis \n",
    "\n",
    "1. For 'house of cards', what is the show id and who is the director ?\n",
    "2. In which year highest number of tv shows and movies were released. show using graph? \n",
    "3. How many movies and TV shows are in the dataset? show with graph \n",
    "4. show all movies that were released in the year 2000?\n",
    "5. Titles of all TV shows that were realeased in India only? \n",
    "6. Top 10 directors with the number of TV shows and movies? \n",
    "7. Show all the Records, where \"Category is Movie and Type is Comedies\" or \"Country is United Kingdom\".\n",
    "8.  In how many movies/shows, Tom Holland was cast ?\n",
    "9. What are the different Ratings defined by Netflix ?\n",
    "10. What is the maximum duration of a Movie/Show on Netflix ?\n",
    "11. Which individual country has the Highest No. of TV Shows ?\n"
   ]
  },
  {
   "cell_type": "markdown",
   "id": "fd91e0ba",
   "metadata": {},
   "source": [
    "Cleaning the data, firstly fixing the date formats to extract the months and the year \n"
   ]
  },
  {
   "cell_type": "code",
   "execution_count": 4,
   "id": "fcc64135",
   "metadata": {},
   "outputs": [],
   "source": [
    "df['Release_Date'] = pd.to_datetime(df['Release_Date'].str.strip())"
   ]
  },
  {
   "cell_type": "code",
   "execution_count": 5,
   "id": "e402050d",
   "metadata": {},
   "outputs": [],
   "source": [
    "df['Release_Month']=df['Release_Date'].dt.month"
   ]
  },
  {
   "cell_type": "code",
   "execution_count": 6,
   "id": "a2d38890",
   "metadata": {},
   "outputs": [],
   "source": [
    "df['Release_Year']=df['Release_Date'].dt.year"
   ]
  },
  {
   "cell_type": "markdown",
   "id": "c9ce756a",
   "metadata": {},
   "source": [
    "Checking the dropping the null values"
   ]
  },
  {
   "cell_type": "code",
   "execution_count": 7,
   "id": "eba633a6",
   "metadata": {},
   "outputs": [
    {
     "data": {
      "text/plain": [
       "Show_Id             0\n",
       "Category            0\n",
       "Title               0\n",
       "Director         2388\n",
       "Cast              718\n",
       "Country           507\n",
       "Release_Date       10\n",
       "Rating              7\n",
       "Duration            0\n",
       "Type                0\n",
       "Description         0\n",
       "Release_Month      10\n",
       "Release_Year       10\n",
       "dtype: int64"
      ]
     },
     "execution_count": 7,
     "metadata": {},
     "output_type": "execute_result"
    }
   ],
   "source": [
    "df.isnull().sum()"
   ]
  },
  {
   "cell_type": "code",
   "execution_count": 8,
   "id": "9afd8322",
   "metadata": {},
   "outputs": [],
   "source": [
    "df.dropna(inplace=True)"
   ]
  },
  {
   "cell_type": "code",
   "execution_count": 9,
   "id": "23a728ff",
   "metadata": {},
   "outputs": [
    {
     "data": {
      "text/plain": [
       "Show_Id          0\n",
       "Category         0\n",
       "Title            0\n",
       "Director         0\n",
       "Cast             0\n",
       "Country          0\n",
       "Release_Date     0\n",
       "Rating           0\n",
       "Duration         0\n",
       "Type             0\n",
       "Description      0\n",
       "Release_Month    0\n",
       "Release_Year     0\n",
       "dtype: int64"
      ]
     },
     "execution_count": 9,
     "metadata": {},
     "output_type": "execute_result"
    }
   ],
   "source": [
    "df.isnull().sum()"
   ]
  },
  {
   "cell_type": "markdown",
   "id": "0cb10673",
   "metadata": {},
   "source": [
    "checking and dropping the duplicate values "
   ]
  },
  {
   "cell_type": "code",
   "execution_count": 10,
   "id": "c8eedbbe",
   "metadata": {},
   "outputs": [
    {
     "data": {
      "text/html": [
       "<div>\n",
       "<style scoped>\n",
       "    .dataframe tbody tr th:only-of-type {\n",
       "        vertical-align: middle;\n",
       "    }\n",
       "\n",
       "    .dataframe tbody tr th {\n",
       "        vertical-align: top;\n",
       "    }\n",
       "\n",
       "    .dataframe thead th {\n",
       "        text-align: right;\n",
       "    }\n",
       "</style>\n",
       "<table border=\"1\" class=\"dataframe\">\n",
       "  <thead>\n",
       "    <tr style=\"text-align: right;\">\n",
       "      <th></th>\n",
       "      <th>Show_Id</th>\n",
       "      <th>Category</th>\n",
       "      <th>Title</th>\n",
       "      <th>Director</th>\n",
       "      <th>Cast</th>\n",
       "      <th>Country</th>\n",
       "      <th>Release_Date</th>\n",
       "      <th>Rating</th>\n",
       "      <th>Duration</th>\n",
       "      <th>Type</th>\n",
       "      <th>Description</th>\n",
       "      <th>Release_Month</th>\n",
       "      <th>Release_Year</th>\n",
       "    </tr>\n",
       "  </thead>\n",
       "  <tbody>\n",
       "    <tr>\n",
       "      <th>6300</th>\n",
       "      <td>s684</td>\n",
       "      <td>Movie</td>\n",
       "      <td>Backfire</td>\n",
       "      <td>Dave Patten</td>\n",
       "      <td>Black Deniro, Byron \"Squally\" Vinson, Dominic ...</td>\n",
       "      <td>United States</td>\n",
       "      <td>2019-04-05</td>\n",
       "      <td>TV-MA</td>\n",
       "      <td>97 min</td>\n",
       "      <td>Dramas, Independent Movies, Thrillers</td>\n",
       "      <td>When two would-be robbers accidentally kill a ...</td>\n",
       "      <td>4.0</td>\n",
       "      <td>2019.0</td>\n",
       "    </tr>\n",
       "    <tr>\n",
       "      <th>6622</th>\n",
       "      <td>s6621</td>\n",
       "      <td>Movie</td>\n",
       "      <td>The Lost Okoroshi</td>\n",
       "      <td>Abba T. Makama</td>\n",
       "      <td>Seun Ajayi, Judith Audu, Tope Tedela, Ifu Enna...</td>\n",
       "      <td>Nigeria</td>\n",
       "      <td>2020-09-04</td>\n",
       "      <td>TV-MA</td>\n",
       "      <td>94 min</td>\n",
       "      <td>Comedies, Dramas, Independent Movies</td>\n",
       "      <td>A disillusioned security guard transforms into...</td>\n",
       "      <td>9.0</td>\n",
       "      <td>2020.0</td>\n",
       "    </tr>\n",
       "  </tbody>\n",
       "</table>\n",
       "</div>"
      ],
      "text/plain": [
       "     Show_Id Category              Title        Director  \\\n",
       "6300    s684    Movie           Backfire     Dave Patten   \n",
       "6622   s6621    Movie  The Lost Okoroshi  Abba T. Makama   \n",
       "\n",
       "                                                   Cast        Country  \\\n",
       "6300  Black Deniro, Byron \"Squally\" Vinson, Dominic ...  United States   \n",
       "6622  Seun Ajayi, Judith Audu, Tope Tedela, Ifu Enna...        Nigeria   \n",
       "\n",
       "     Release_Date Rating Duration                                   Type  \\\n",
       "6300   2019-04-05  TV-MA   97 min  Dramas, Independent Movies, Thrillers   \n",
       "6622   2020-09-04  TV-MA   94 min   Comedies, Dramas, Independent Movies   \n",
       "\n",
       "                                            Description  Release_Month  \\\n",
       "6300  When two would-be robbers accidentally kill a ...            4.0   \n",
       "6622  A disillusioned security guard transforms into...            9.0   \n",
       "\n",
       "      Release_Year  \n",
       "6300        2019.0  \n",
       "6622        2020.0  "
      ]
     },
     "execution_count": 10,
     "metadata": {},
     "output_type": "execute_result"
    }
   ],
   "source": [
    "df[df.duplicated()]"
   ]
  },
  {
   "cell_type": "code",
   "execution_count": 11,
   "id": "70b2148f",
   "metadata": {},
   "outputs": [],
   "source": [
    "df.drop_duplicates(inplace=True)"
   ]
  },
  {
   "cell_type": "code",
   "execution_count": 12,
   "id": "0ec67238",
   "metadata": {},
   "outputs": [
    {
     "data": {
      "text/html": [
       "<div>\n",
       "<style scoped>\n",
       "    .dataframe tbody tr th:only-of-type {\n",
       "        vertical-align: middle;\n",
       "    }\n",
       "\n",
       "    .dataframe tbody tr th {\n",
       "        vertical-align: top;\n",
       "    }\n",
       "\n",
       "    .dataframe thead th {\n",
       "        text-align: right;\n",
       "    }\n",
       "</style>\n",
       "<table border=\"1\" class=\"dataframe\">\n",
       "  <thead>\n",
       "    <tr style=\"text-align: right;\">\n",
       "      <th></th>\n",
       "      <th>Show_Id</th>\n",
       "      <th>Category</th>\n",
       "      <th>Title</th>\n",
       "      <th>Director</th>\n",
       "      <th>Cast</th>\n",
       "      <th>Country</th>\n",
       "      <th>Release_Date</th>\n",
       "      <th>Rating</th>\n",
       "      <th>Duration</th>\n",
       "      <th>Type</th>\n",
       "      <th>Description</th>\n",
       "      <th>Release_Month</th>\n",
       "      <th>Release_Year</th>\n",
       "    </tr>\n",
       "  </thead>\n",
       "  <tbody>\n",
       "    <tr>\n",
       "      <th>1</th>\n",
       "      <td>s2</td>\n",
       "      <td>Movie</td>\n",
       "      <td>07:19</td>\n",
       "      <td>Jorge Michel Grau</td>\n",
       "      <td>Demián Bichir, Héctor Bonilla, Oscar Serrano, ...</td>\n",
       "      <td>Mexico</td>\n",
       "      <td>2016-12-23</td>\n",
       "      <td>TV-MA</td>\n",
       "      <td>93 min</td>\n",
       "      <td>Dramas, International Movies</td>\n",
       "      <td>After a devastating earthquake hits Mexico Cit...</td>\n",
       "      <td>12.0</td>\n",
       "      <td>2016.0</td>\n",
       "    </tr>\n",
       "    <tr>\n",
       "      <th>2</th>\n",
       "      <td>s3</td>\n",
       "      <td>Movie</td>\n",
       "      <td>23:59</td>\n",
       "      <td>Gilbert Chan</td>\n",
       "      <td>Tedd Chan, Stella Chung, Henley Hii, Lawrence ...</td>\n",
       "      <td>Singapore</td>\n",
       "      <td>2018-12-20</td>\n",
       "      <td>R</td>\n",
       "      <td>78 min</td>\n",
       "      <td>Horror Movies, International Movies</td>\n",
       "      <td>When an army recruit is found dead, his fellow...</td>\n",
       "      <td>12.0</td>\n",
       "      <td>2018.0</td>\n",
       "    </tr>\n",
       "    <tr>\n",
       "      <th>3</th>\n",
       "      <td>s4</td>\n",
       "      <td>Movie</td>\n",
       "      <td>9</td>\n",
       "      <td>Shane Acker</td>\n",
       "      <td>Elijah Wood, John C. Reilly, Jennifer Connelly...</td>\n",
       "      <td>United States</td>\n",
       "      <td>2017-11-16</td>\n",
       "      <td>PG-13</td>\n",
       "      <td>80 min</td>\n",
       "      <td>Action &amp; Adventure, Independent Movies, Sci-Fi...</td>\n",
       "      <td>In a postapocalyptic world, rag-doll robots hi...</td>\n",
       "      <td>11.0</td>\n",
       "      <td>2017.0</td>\n",
       "    </tr>\n",
       "    <tr>\n",
       "      <th>4</th>\n",
       "      <td>s5</td>\n",
       "      <td>Movie</td>\n",
       "      <td>21</td>\n",
       "      <td>Robert Luketic</td>\n",
       "      <td>Jim Sturgess, Kevin Spacey, Kate Bosworth, Aar...</td>\n",
       "      <td>United States</td>\n",
       "      <td>2020-01-01</td>\n",
       "      <td>PG-13</td>\n",
       "      <td>123 min</td>\n",
       "      <td>Dramas</td>\n",
       "      <td>A brilliant group of students become card-coun...</td>\n",
       "      <td>1.0</td>\n",
       "      <td>2020.0</td>\n",
       "    </tr>\n",
       "    <tr>\n",
       "      <th>5</th>\n",
       "      <td>s6</td>\n",
       "      <td>TV Show</td>\n",
       "      <td>46</td>\n",
       "      <td>Serdar Akar</td>\n",
       "      <td>Erdal Beşikçioğlu, Yasemin Allen, Melis Birkan...</td>\n",
       "      <td>Turkey</td>\n",
       "      <td>2017-07-01</td>\n",
       "      <td>TV-MA</td>\n",
       "      <td>1 Season</td>\n",
       "      <td>International TV Shows, TV Dramas, TV Mysteries</td>\n",
       "      <td>A genetics professor experiments with a treatm...</td>\n",
       "      <td>7.0</td>\n",
       "      <td>2017.0</td>\n",
       "    </tr>\n",
       "  </tbody>\n",
       "</table>\n",
       "</div>"
      ],
      "text/plain": [
       "  Show_Id Category  Title           Director  \\\n",
       "1      s2    Movie  07:19  Jorge Michel Grau   \n",
       "2      s3    Movie  23:59       Gilbert Chan   \n",
       "3      s4    Movie      9        Shane Acker   \n",
       "4      s5    Movie     21     Robert Luketic   \n",
       "5      s6  TV Show     46        Serdar Akar   \n",
       "\n",
       "                                                Cast        Country  \\\n",
       "1  Demián Bichir, Héctor Bonilla, Oscar Serrano, ...         Mexico   \n",
       "2  Tedd Chan, Stella Chung, Henley Hii, Lawrence ...      Singapore   \n",
       "3  Elijah Wood, John C. Reilly, Jennifer Connelly...  United States   \n",
       "4  Jim Sturgess, Kevin Spacey, Kate Bosworth, Aar...  United States   \n",
       "5  Erdal Beşikçioğlu, Yasemin Allen, Melis Birkan...         Turkey   \n",
       "\n",
       "  Release_Date Rating  Duration  \\\n",
       "1   2016-12-23  TV-MA    93 min   \n",
       "2   2018-12-20      R    78 min   \n",
       "3   2017-11-16  PG-13    80 min   \n",
       "4   2020-01-01  PG-13   123 min   \n",
       "5   2017-07-01  TV-MA  1 Season   \n",
       "\n",
       "                                                Type  \\\n",
       "1                       Dramas, International Movies   \n",
       "2                Horror Movies, International Movies   \n",
       "3  Action & Adventure, Independent Movies, Sci-Fi...   \n",
       "4                                             Dramas   \n",
       "5    International TV Shows, TV Dramas, TV Mysteries   \n",
       "\n",
       "                                         Description  Release_Month  \\\n",
       "1  After a devastating earthquake hits Mexico Cit...           12.0   \n",
       "2  When an army recruit is found dead, his fellow...           12.0   \n",
       "3  In a postapocalyptic world, rag-doll robots hi...           11.0   \n",
       "4  A brilliant group of students become card-coun...            1.0   \n",
       "5  A genetics professor experiments with a treatm...            7.0   \n",
       "\n",
       "   Release_Year  \n",
       "1        2016.0  \n",
       "2        2018.0  \n",
       "3        2017.0  \n",
       "4        2020.0  \n",
       "5        2017.0  "
      ]
     },
     "execution_count": 12,
     "metadata": {},
     "output_type": "execute_result"
    }
   ],
   "source": [
    "df.head()"
   ]
  },
  {
   "cell_type": "code",
   "execution_count": 13,
   "id": "cb1b84ef",
   "metadata": {},
   "outputs": [
    {
     "name": "stdout",
     "output_type": "stream",
     "text": [
      "True\n",
      "     Show_Id Category           Title  \\\n",
      "2832   s2833  TV Show  House of Cards   \n",
      "\n",
      "                                               Director  \\\n",
      "2832  Robin Wright, David Fincher, Gerald McRaney, J...   \n",
      "\n",
      "                                                   Cast        Country  \\\n",
      "2832  Kevin Spacey, Robin Wright, Kate Mara, Corey S...  United States   \n",
      "\n",
      "     Release_Date Rating   Duration                     Type  \\\n",
      "2832   2018-11-02  TV-MA  6 Seasons  TV Dramas, TV Thrillers   \n",
      "\n",
      "                                            Description  Release_Month  \\\n",
      "2832  A ruthless politician will stop at nothing to ...           11.0   \n",
      "\n",
      "      Release_Year  \n",
      "2832        2018.0  \n"
     ]
    }
   ],
   "source": [
    "# Check if exact title \"House of Cards\" exists\n",
    "exact_match = df['Title'].isin(['House of Cards'])\n",
    "print(exact_match.any())  # Returns True if found, False if not\n",
    "\n",
    "# To see the matching rows\n",
    "matching_rows = df[df['Title'].isin(['House of Cards'])]\n",
    "print(matching_rows)"
   ]
  },
  {
   "cell_type": "markdown",
   "id": "343a3aa4",
   "metadata": {},
   "source": [
    "# Answering the first question \n",
    "1. For 'house of cards', what is the show id and who is the director ?"
   ]
  },
  {
   "cell_type": "code",
   "execution_count": 14,
   "id": "9fdfa4d1",
   "metadata": {},
   "outputs": [
    {
     "name": "stdout",
     "output_type": "stream",
     "text": [
      "Index([2832], dtype='int64')\n"
     ]
    }
   ],
   "source": [
    "mask = df['Title'] == 'House of Cards'\n",
    "index1 = df.index[mask]\n",
    "if not index1.empty:\n",
    "    print(index1)\n",
    "else:\n",
    "    print(\"House of Cards not found\")"
   ]
  },
  {
   "cell_type": "code",
   "execution_count": 15,
   "id": "19474dcc",
   "metadata": {},
   "outputs": [
    {
     "data": {
      "text/plain": [
       "2832"
      ]
     },
     "execution_count": 15,
     "metadata": {},
     "output_type": "execute_result"
    }
   ],
   "source": [
    "real_index= int(index1[0])\n",
    "real_index"
   ]
  },
  {
   "cell_type": "code",
   "execution_count": 16,
   "id": "9b62380c",
   "metadata": {},
   "outputs": [
    {
     "name": "stdout",
     "output_type": "stream",
     "text": [
      "Answering the first question\n",
      " Show ID for House of Cards is :\n",
      "s2833\n",
      "The director of House of Cards is :\n",
      "Robin Wright, David Fincher, Gerald McRaney, John David Coles, David Manson\n"
     ]
    }
   ],
   "source": [
    "print(\"Answering the first question\")\n",
    "print( \" Show ID for House of Cards is :\")\n",
    "print(df['Show_Id'][real_index])\n",
    "print(\"The director of House of Cards is :\")\n",
    "print(df['Director'][real_index])"
   ]
  },
  {
   "cell_type": "markdown",
   "id": "aa266bc3",
   "metadata": {},
   "source": [
    "2. In which year highest number of tv shows and movies were released. show using graph? "
   ]
  },
  {
   "cell_type": "code",
   "execution_count": 17,
   "id": "5a6e708d",
   "metadata": {},
   "outputs": [],
   "source": [
    "# the years are already seperated, lets see what we can do from here onwards\n",
    "years=df.groupby('Release_Year').count()\n",
    "# the years are already seperated, lets see what we can do from here onwards"
   ]
  },
  {
   "cell_type": "code",
   "execution_count": 18,
   "id": "9bea29f2",
   "metadata": {},
   "outputs": [],
   "source": [
    "import matplotlib.pyplot as plt"
   ]
  },
  {
   "cell_type": "code",
   "execution_count": 19,
   "id": "4a33e612",
   "metadata": {},
   "outputs": [
    {
     "data": {
      "image/png": "[encoded data removed]",
      "text/plain": [
       "<Figure size 640x480 with 1 Axes>"
      ]
     },
     "metadata": {},
     "output_type": "display_data"
    }
   ],
   "source": [
    "plt.bar(years.index, years['Show_Id'], color='blue', width=0.3, edgecolor='black')\n",
    "plt.plot(years.index, years['Show_Id'], color='red', marker='o', linestyle='dashed')\n",
    "# plt.legend().set_visible(True)\n",
    "plt.xlim(2005, 2022)\n",
    "plt.ylim(0,1500)\n",
    "plt.xticks(rotation=90)\n",
    "plt.xlabel(\"Year of Release\")\n",
    "plt.ylabel(\"Number of Shows\")\n",
    "plt.title(\"The graph shows the number of shows released per year\")\n",
    "plt.grid()\n",
    "plt.tight_layout()\n",
    "plt.show()"
   ]
  },
  {
   "cell_type": "markdown",
   "id": "bc67824c",
   "metadata": {},
   "source": [
    "For a better visualization, i asked claude to show the values of the total number of shows released above the datapoint"
   ]
  },
  {
   "cell_type": "code",
   "execution_count": 20,
   "id": "658eaa2a",
   "metadata": {},
   "outputs": [
    {
     "data": {
      "image/png": "[encoded data removed]",
      "text/plain": [
       "<Figure size 640x480 with 1 Axes>"
      ]
     },
     "metadata": {},
     "output_type": "display_data"
    }
   ],
   "source": [
    "# Create a bar chart showing the number of shows released per year\n",
    "plt.bar(years.index, years['Show_Id'], color='blue', width=0.3, edgecolor='black')\n",
    "\n",
    "# Add a line plot with markers on top of the bars for better visualization\n",
    "plt.plot(years.index, years['Show_Id'], color='red', marker='o', linestyle='dashed')\n",
    "\n",
    "# Add text annotations above each data point on the line graph\n",
    "# Logic: Loop through each year and its corresponding show count, then place text at (x, y+offset)\n",
    "# The offset ensures the text appears above the marker point for better readability\n",
    "for i, (year, count) in enumerate(zip(years.index, years['Show_Id'])):\n",
    "    plt.annotate(str(count), \n",
    "                xy=(year, count),           # Position of the data point\n",
    "                xytext=(0, 10),             # Offset: 10 points above the data point\n",
    "                textcoords='offset points', # Use offset from the data point\n",
    "                ha='center',                # Horizontal alignment: center\n",
    "                va='bottom',                # Vertical alignment: bottom\n",
    "                fontsize=9,                 # Font size for the annotations\n",
    "                fontweight='bold')          # Make text bold for better visibility\n",
    "\n",
    "# plt.legend().set_visible(True)\n",
    "plt.xlim(2005, 2022)\n",
    "plt.ylim(0,1500)\n",
    "plt.xticks(rotation=90)\n",
    "plt.xlabel(\"Year of Release\")\n",
    "plt.ylabel(\"Number of Shows\")\n",
    "plt.title(\"The graph shows the number of shows released per year\")\n",
    "plt.grid()\n",
    "plt.tight_layout()\n",
    "plt.show()"
   ]
  },
  {
   "cell_type": "code",
   "execution_count": 21,
   "id": "09faaa70",
   "metadata": {},
   "outputs": [
    {
     "name": "stdout",
     "output_type": "stream",
     "text": [
      "The answer to the second question.\n",
      " The number of shows released per year is : 2019 \n"
     ]
    }
   ],
   "source": [
    "print(\"The answer to the second question.\")\n",
    "print(\" The number of shows released per year is : 2019 \")"
   ]
  },
  {
   "cell_type": "markdown",
   "id": "ddd5eb82",
   "metadata": {},
   "source": [
    "3. How many movies and TV shows are in the dataset? show with graph "
   ]
  },
  {
   "cell_type": "code",
   "execution_count": 22,
   "id": "09a3c1ba",
   "metadata": {},
   "outputs": [
    {
     "data": {
      "text/plain": [
       "Category\n",
       "Movie      4673\n",
       "TV Show     136\n",
       "Name: count, dtype: int64"
      ]
     },
     "execution_count": 22,
     "metadata": {},
     "output_type": "execute_result"
    }
   ],
   "source": [
    "df['Category'].value_counts()"
   ]
  },
  {
   "cell_type": "code",
   "execution_count": 23,
   "id": "b145ddae",
   "metadata": {},
   "outputs": [],
   "source": [
    "movies_and_tvshows=df.groupby(\"Category\").count()"
   ]
  },
  {
   "cell_type": "code",
   "execution_count": 24,
   "id": "f99b8685",
   "metadata": {},
   "outputs": [
    {
     "data": {
      "image/png": "[encoded data removed]",
      "text/plain": [
       "<Figure size 640x480 with 1 Axes>"
      ]
     },
     "metadata": {},
     "output_type": "display_data"
    }
   ],
   "source": [
    "plt.bar(movies_and_tvshows.index, movies_and_tvshows['Show_Id'], color='blue', width=0.05, edgecolor='black')\n",
    "plt.plot(movies_and_tvshows.index, movies_and_tvshows['Show_Id'], color='red', marker='o', linestyle='dashed')\n",
    "plt.tight_layout()\n",
    "plt.xlabel(\"Category\")\n",
    "plt.ylabel(\"Number of Shows\")  \n",
    "plt.title(\"The graph shows the number of shows released per category\")\n",
    "plt.grid()\n",
    "plt.show()"
   ]
  },
  {
   "cell_type": "markdown",
   "id": "7229565c",
   "metadata": {},
   "source": [
    "Some changed made with claude for better visualization"
   ]
  },
  {
   "cell_type": "code",
   "execution_count": 25,
   "id": "9f77575c",
   "metadata": {},
   "outputs": [
    {
     "data": {
      "image/png": "[encoded data removed]",
      "text/plain": [
       "<Figure size 640x480 with 1 Axes>"
      ]
     },
     "metadata": {},
     "output_type": "display_data"
    }
   ],
   "source": [
    "x_positions = [0, 1]  # Close positions for the two categories\n",
    "\n",
    "# Create bar chart with custom positions and add annotations above bars\n",
    "bars = plt.bar(x_positions, movies_and_tvshows['Show_Id'], color='blue', width=0.4, edgecolor='black')\n",
    "plt.plot(x_positions, movies_and_tvshows['Show_Id'], color='red', marker='o', linestyle='dashed')\n",
    "\n",
    "# Add value labels above each bar - shorter annotation code\n",
    "for x, count in zip(x_positions, movies_and_tvshows['Show_Id']):\n",
    "    plt.annotate(str(count), (x, count), xytext=(0, 10), textcoords='offset points', \n",
    "                ha='center', va='bottom', fontsize=12, fontweight='bold')\n",
    "\n",
    "# Set custom x-axis labels for the two categories\n",
    "plt.xticks(x_positions, movies_and_tvshows.index)\n",
    "plt.xlabel(\"Category\")\n",
    "plt.ylabel(\"Number of Shows\")  \n",
    "plt.title(\"The graph shows the number of shows released per category\")\n",
    "plt.grid()\n",
    "plt.ylim(0, 5500)\n",
    "plt.tight_layout()\n",
    "plt.show()"
   ]
  },
  {
   "cell_type": "code",
   "execution_count": 26,
   "id": "e7f3e8df",
   "metadata": {},
   "outputs": [
    {
     "name": "stdout",
     "output_type": "stream",
     "text": [
      "The answer to the third question is pretty visible within the grpah itself.\n"
     ]
    }
   ],
   "source": [
    "print(\"The answer to the third question is pretty visible within the grpah itself.\")"
   ]
  },
  {
   "cell_type": "markdown",
   "id": "02ec366d",
   "metadata": {},
   "source": [
    "4. Show all movies that were released in the year 2000?"
   ]
  },
  {
   "cell_type": "code",
   "execution_count": 27,
   "id": "160a51eb",
   "metadata": {},
   "outputs": [],
   "source": [
    "movies_sep2020= df[(df['Category'] == 'Movie')& (df['Release_Year'] == 2020)]\n",
    "    "
   ]
  },
  {
   "cell_type": "code",
   "execution_count": 28,
   "id": "5677a515",
   "metadata": {},
   "outputs": [
    {
     "data": {
      "text/html": [
       "<div>\n",
       "<style scoped>\n",
       "    .dataframe tbody tr th:only-of-type {\n",
       "        vertical-align: middle;\n",
       "    }\n",
       "\n",
       "    .dataframe tbody tr th {\n",
       "        vertical-align: top;\n",
       "    }\n",
       "\n",
       "    .dataframe thead th {\n",
       "        text-align: right;\n",
       "    }\n",
       "</style>\n",
       "<table border=\"1\" class=\"dataframe\">\n",
       "  <thead>\n",
       "    <tr style=\"text-align: right;\">\n",
       "      <th></th>\n",
       "      <th>Show_Id</th>\n",
       "      <th>Category</th>\n",
       "      <th>Title</th>\n",
       "      <th>Director</th>\n",
       "      <th>Cast</th>\n",
       "      <th>Country</th>\n",
       "      <th>Release_Date</th>\n",
       "      <th>Rating</th>\n",
       "      <th>Duration</th>\n",
       "      <th>Type</th>\n",
       "      <th>Description</th>\n",
       "      <th>Release_Month</th>\n",
       "      <th>Release_Year</th>\n",
       "    </tr>\n",
       "  </thead>\n",
       "  <tbody>\n",
       "    <tr>\n",
       "      <th>4</th>\n",
       "      <td>s5</td>\n",
       "      <td>Movie</td>\n",
       "      <td>21</td>\n",
       "      <td>Robert Luketic</td>\n",
       "      <td>Jim Sturgess, Kevin Spacey, Kate Bosworth, Aar...</td>\n",
       "      <td>United States</td>\n",
       "      <td>2020-01-01</td>\n",
       "      <td>PG-13</td>\n",
       "      <td>123 min</td>\n",
       "      <td>Dramas</td>\n",
       "      <td>A brilliant group of students become card-coun...</td>\n",
       "      <td>1.0</td>\n",
       "      <td>2020.0</td>\n",
       "    </tr>\n",
       "    <tr>\n",
       "      <th>6</th>\n",
       "      <td>s7</td>\n",
       "      <td>Movie</td>\n",
       "      <td>122</td>\n",
       "      <td>Yasir Al Yasiri</td>\n",
       "      <td>Amina Khalil, Ahmed Dawood, Tarek Lotfy, Ahmed...</td>\n",
       "      <td>Egypt</td>\n",
       "      <td>2020-06-01</td>\n",
       "      <td>TV-MA</td>\n",
       "      <td>95 min</td>\n",
       "      <td>Horror Movies, International Movies</td>\n",
       "      <td>After an awful accident, a couple admitted to ...</td>\n",
       "      <td>6.0</td>\n",
       "      <td>2020.0</td>\n",
       "    </tr>\n",
       "    <tr>\n",
       "      <th>14</th>\n",
       "      <td>s15</td>\n",
       "      <td>Movie</td>\n",
       "      <td>3022</td>\n",
       "      <td>John Suits</td>\n",
       "      <td>Omar Epps, Kate Walsh, Miranda Cosgrove, Angus...</td>\n",
       "      <td>United States</td>\n",
       "      <td>2020-03-19</td>\n",
       "      <td>R</td>\n",
       "      <td>91 min</td>\n",
       "      <td>Independent Movies, Sci-Fi &amp; Fantasy, Thrillers</td>\n",
       "      <td>Stranded when the Earth is suddenly destroyed ...</td>\n",
       "      <td>3.0</td>\n",
       "      <td>2020.0</td>\n",
       "    </tr>\n",
       "    <tr>\n",
       "      <th>27</th>\n",
       "      <td>s28</td>\n",
       "      <td>Movie</td>\n",
       "      <td>#Alive</td>\n",
       "      <td>Cho Il</td>\n",
       "      <td>Yoo Ah-in, Park Shin-hye</td>\n",
       "      <td>South Korea</td>\n",
       "      <td>2020-09-08</td>\n",
       "      <td>TV-MA</td>\n",
       "      <td>99 min</td>\n",
       "      <td>Horror Movies, International Movies, Thrillers</td>\n",
       "      <td>As a grisly virus rampages a city, a lone man ...</td>\n",
       "      <td>9.0</td>\n",
       "      <td>2020.0</td>\n",
       "    </tr>\n",
       "    <tr>\n",
       "      <th>28</th>\n",
       "      <td>s29</td>\n",
       "      <td>Movie</td>\n",
       "      <td>#AnneFrank - Parallel Stories</td>\n",
       "      <td>Sabina Fedeli, Anna Migotto</td>\n",
       "      <td>Helen Mirren, Gengher Gatti</td>\n",
       "      <td>Italy</td>\n",
       "      <td>2020-07-01</td>\n",
       "      <td>TV-14</td>\n",
       "      <td>95 min</td>\n",
       "      <td>Documentaries, International Movies</td>\n",
       "      <td>Through her diary, Anne Frank's story is retol...</td>\n",
       "      <td>7.0</td>\n",
       "      <td>2020.0</td>\n",
       "    </tr>\n",
       "    <tr>\n",
       "      <th>...</th>\n",
       "      <td>...</td>\n",
       "      <td>...</td>\n",
       "      <td>...</td>\n",
       "      <td>...</td>\n",
       "      <td>...</td>\n",
       "      <td>...</td>\n",
       "      <td>...</td>\n",
       "      <td>...</td>\n",
       "      <td>...</td>\n",
       "      <td>...</td>\n",
       "      <td>...</td>\n",
       "      <td>...</td>\n",
       "      <td>...</td>\n",
       "    </tr>\n",
       "    <tr>\n",
       "      <th>7746</th>\n",
       "      <td>s7745</td>\n",
       "      <td>Movie</td>\n",
       "      <td>Yours Sincerely, Kanan Gill</td>\n",
       "      <td>Neville Shah</td>\n",
       "      <td>Kanan Gill</td>\n",
       "      <td>India</td>\n",
       "      <td>2020-04-24</td>\n",
       "      <td>TV-MA</td>\n",
       "      <td>72 min</td>\n",
       "      <td>Stand-Up Comedy</td>\n",
       "      <td>Revisiting life goals set in a letter written ...</td>\n",
       "      <td>4.0</td>\n",
       "      <td>2020.0</td>\n",
       "    </tr>\n",
       "    <tr>\n",
       "      <th>7750</th>\n",
       "      <td>s7749</td>\n",
       "      <td>Movie</td>\n",
       "      <td>الف مبروك</td>\n",
       "      <td>Ahmed Nader Galal</td>\n",
       "      <td>Ahmed Helmy, Laila Ezz El Arab, Mahmoud El Fis...</td>\n",
       "      <td>Egypt</td>\n",
       "      <td>2020-04-25</td>\n",
       "      <td>TV-14</td>\n",
       "      <td>115 min</td>\n",
       "      <td>Comedies, Dramas, International Movies</td>\n",
       "      <td>On his wedding day, an arrogant, greedy accoun...</td>\n",
       "      <td>4.0</td>\n",
       "      <td>2020.0</td>\n",
       "    </tr>\n",
       "    <tr>\n",
       "      <th>7762</th>\n",
       "      <td>s7761</td>\n",
       "      <td>Movie</td>\n",
       "      <td>Zaki Chan</td>\n",
       "      <td>Wael Ihsan</td>\n",
       "      <td>Ahmed Helmy, Yasmin Abdulaziz, Hassan Hosny, H...</td>\n",
       "      <td>Egypt</td>\n",
       "      <td>2020-05-19</td>\n",
       "      <td>TV-PG</td>\n",
       "      <td>109 min</td>\n",
       "      <td>Comedies, International Movies, Romantic Movies</td>\n",
       "      <td>An unqualified young man has his work cut out ...</td>\n",
       "      <td>5.0</td>\n",
       "      <td>2020.0</td>\n",
       "    </tr>\n",
       "    <tr>\n",
       "      <th>7783</th>\n",
       "      <td>s7782</td>\n",
       "      <td>Movie</td>\n",
       "      <td>Zoom</td>\n",
       "      <td>Peter Hewitt</td>\n",
       "      <td>Tim Allen, Courteney Cox, Chevy Chase, Kate Ma...</td>\n",
       "      <td>United States</td>\n",
       "      <td>2020-01-11</td>\n",
       "      <td>PG</td>\n",
       "      <td>88 min</td>\n",
       "      <td>Children &amp; Family Movies, Comedies</td>\n",
       "      <td>Dragged from civilian life, a former superhero...</td>\n",
       "      <td>1.0</td>\n",
       "      <td>2020.0</td>\n",
       "    </tr>\n",
       "    <tr>\n",
       "      <th>7784</th>\n",
       "      <td>s7783</td>\n",
       "      <td>Movie</td>\n",
       "      <td>Zozo</td>\n",
       "      <td>Josef Fares</td>\n",
       "      <td>Imad Creidi, Antoinette Turk, Elias Gergi, Car...</td>\n",
       "      <td>Sweden, Czech Republic, United Kingdom, Denmar...</td>\n",
       "      <td>2020-10-19</td>\n",
       "      <td>TV-MA</td>\n",
       "      <td>99 min</td>\n",
       "      <td>Dramas, International Movies</td>\n",
       "      <td>When Lebanon's Civil War deprives Zozo of his ...</td>\n",
       "      <td>10.0</td>\n",
       "      <td>2020.0</td>\n",
       "    </tr>\n",
       "  </tbody>\n",
       "</table>\n",
       "<p>1177 rows × 13 columns</p>\n",
       "</div>"
      ],
      "text/plain": [
       "     Show_Id Category                          Title  \\\n",
       "4         s5    Movie                             21   \n",
       "6         s7    Movie                            122   \n",
       "14       s15    Movie                           3022   \n",
       "27       s28    Movie                         #Alive   \n",
       "28       s29    Movie  #AnneFrank - Parallel Stories   \n",
       "...      ...      ...                            ...   \n",
       "7746   s7745    Movie    Yours Sincerely, Kanan Gill   \n",
       "7750   s7749    Movie                      الف مبروك   \n",
       "7762   s7761    Movie                      Zaki Chan   \n",
       "7783   s7782    Movie                           Zoom   \n",
       "7784   s7783    Movie                           Zozo   \n",
       "\n",
       "                         Director  \\\n",
       "4                  Robert Luketic   \n",
       "6                 Yasir Al Yasiri   \n",
       "14                     John Suits   \n",
       "27                         Cho Il   \n",
       "28    Sabina Fedeli, Anna Migotto   \n",
       "...                           ...   \n",
       "7746                 Neville Shah   \n",
       "7750            Ahmed Nader Galal   \n",
       "7762                   Wael Ihsan   \n",
       "7783                 Peter Hewitt   \n",
       "7784                  Josef Fares   \n",
       "\n",
       "                                                   Cast  \\\n",
       "4     Jim Sturgess, Kevin Spacey, Kate Bosworth, Aar...   \n",
       "6     Amina Khalil, Ahmed Dawood, Tarek Lotfy, Ahmed...   \n",
       "14    Omar Epps, Kate Walsh, Miranda Cosgrove, Angus...   \n",
       "27                             Yoo Ah-in, Park Shin-hye   \n",
       "28                          Helen Mirren, Gengher Gatti   \n",
       "...                                                 ...   \n",
       "7746                                         Kanan Gill   \n",
       "7750  Ahmed Helmy, Laila Ezz El Arab, Mahmoud El Fis...   \n",
       "7762  Ahmed Helmy, Yasmin Abdulaziz, Hassan Hosny, H...   \n",
       "7783  Tim Allen, Courteney Cox, Chevy Chase, Kate Ma...   \n",
       "7784  Imad Creidi, Antoinette Turk, Elias Gergi, Car...   \n",
       "\n",
       "                                                Country Release_Date Rating  \\\n",
       "4                                         United States   2020-01-01  PG-13   \n",
       "6                                                 Egypt   2020-06-01  TV-MA   \n",
       "14                                        United States   2020-03-19      R   \n",
       "27                                          South Korea   2020-09-08  TV-MA   \n",
       "28                                                Italy   2020-07-01  TV-14   \n",
       "...                                                 ...          ...    ...   \n",
       "7746                                              India   2020-04-24  TV-MA   \n",
       "7750                                              Egypt   2020-04-25  TV-14   \n",
       "7762                                              Egypt   2020-05-19  TV-PG   \n",
       "7783                                      United States   2020-01-11     PG   \n",
       "7784  Sweden, Czech Republic, United Kingdom, Denmar...   2020-10-19  TV-MA   \n",
       "\n",
       "     Duration                                             Type  \\\n",
       "4     123 min                                           Dramas   \n",
       "6      95 min              Horror Movies, International Movies   \n",
       "14     91 min  Independent Movies, Sci-Fi & Fantasy, Thrillers   \n",
       "27     99 min   Horror Movies, International Movies, Thrillers   \n",
       "28     95 min              Documentaries, International Movies   \n",
       "...       ...                                              ...   \n",
       "7746   72 min                                  Stand-Up Comedy   \n",
       "7750  115 min           Comedies, Dramas, International Movies   \n",
       "7762  109 min  Comedies, International Movies, Romantic Movies   \n",
       "7783   88 min               Children & Family Movies, Comedies   \n",
       "7784   99 min                     Dramas, International Movies   \n",
       "\n",
       "                                            Description  Release_Month  \\\n",
       "4     A brilliant group of students become card-coun...            1.0   \n",
       "6     After an awful accident, a couple admitted to ...            6.0   \n",
       "14    Stranded when the Earth is suddenly destroyed ...            3.0   \n",
       "27    As a grisly virus rampages a city, a lone man ...            9.0   \n",
       "28    Through her diary, Anne Frank's story is retol...            7.0   \n",
       "...                                                 ...            ...   \n",
       "7746  Revisiting life goals set in a letter written ...            4.0   \n",
       "7750  On his wedding day, an arrogant, greedy accoun...            4.0   \n",
       "7762  An unqualified young man has his work cut out ...            5.0   \n",
       "7783  Dragged from civilian life, a former superhero...            1.0   \n",
       "7784  When Lebanon's Civil War deprives Zozo of his ...           10.0   \n",
       "\n",
       "      Release_Year  \n",
       "4           2020.0  \n",
       "6           2020.0  \n",
       "14          2020.0  \n",
       "27          2020.0  \n",
       "28          2020.0  \n",
       "...            ...  \n",
       "7746        2020.0  \n",
       "7750        2020.0  \n",
       "7762        2020.0  \n",
       "7783        2020.0  \n",
       "7784        2020.0  \n",
       "\n",
       "[1177 rows x 13 columns]"
      ]
     },
     "execution_count": 28,
     "metadata": {},
     "output_type": "execute_result"
    }
   ],
   "source": [
    "movies_sep2020"
   ]
  },
  {
   "cell_type": "markdown",
   "id": "0e233e5a",
   "metadata": {},
   "source": [
    "5. Titles of all TV shows that were realeased in India only? "
   ]
  },
  {
   "cell_type": "code",
   "execution_count": 29,
   "id": "cca6f4ca",
   "metadata": {},
   "outputs": [],
   "source": [
    "Indian_Titles= df[(df['Country']=='India') & (df['Category']=='TV Show')]"
   ]
  },
  {
   "cell_type": "code",
   "execution_count": 30,
   "id": "44778e58",
   "metadata": {},
   "outputs": [
    {
     "name": "stdout",
     "output_type": "stream",
     "text": [
      "Below is the list of all the TV shows that were released in India only :\n"
     ]
    },
    {
     "data": {
      "text/plain": [
       "132                                 7 (Seven)\n",
       "2406                                    GHOUL\n",
       "3119             Jamtara - Sabka Number Ayega\n",
       "4724                          Paava Kadhaigal\n",
       "6037    Th Eena Meena Deeka Chase Comedy Show\n",
       "Name: Title, dtype: object"
      ]
     },
     "execution_count": 30,
     "metadata": {},
     "output_type": "execute_result"
    }
   ],
   "source": [
    "print(\"Below is the list of all the TV shows that were released in India only :\")\n",
    "Indian_Titles['Title']"
   ]
  },
  {
   "cell_type": "markdown",
   "id": "60fa4633",
   "metadata": {},
   "source": [
    "7. Show all the Records, where \"Category is Movie and Type is Comedies\" or \"Country is United Kingdom\".\n"
   ]
  },
  {
   "cell_type": "markdown",
   "id": "eec09908",
   "metadata": {},
   "source": [
    "The column type is having a lot of enteries but is in string format as a whole and therefore we are breaking it down into a list which has those enteries those as seperate elements so we can individually interate over them. \n"
   ]
  },
  {
   "cell_type": "code",
   "execution_count": 31,
   "id": "d29060df",
   "metadata": {},
   "outputs": [],
   "source": [
    "import ast\n",
    "def clean_list(type):\n",
    "    try:\n",
    "        return ast.literal_eval(type)\n",
    "    except (ValueError, SyntaxError):\n",
    "        return type\n",
    "        \n"
   ]
  },
  {
   "cell_type": "code",
   "execution_count": 32,
   "id": "4d5dc6fc",
   "metadata": {},
   "outputs": [],
   "source": [
    "df['Type'] = df['Type'].apply(clean_list)"
   ]
  },
  {
   "cell_type": "code",
   "execution_count": 33,
   "id": "8cbf0a63",
   "metadata": {},
   "outputs": [],
   "source": [
    "solution = df[(df['Category']=='Movie') & (df['Type'].apply(lambda x: 'Comedies' in x if isinstance(x, list) else 'Comedies' == x))]\n"
   ]
  },
  {
   "cell_type": "code",
   "execution_count": 34,
   "id": "0b61b6b6",
   "metadata": {},
   "outputs": [],
   "source": [
    "solution1=df[df['Country']=='United Kingdom']"
   ]
  },
  {
   "cell_type": "code",
   "execution_count": 35,
   "id": "a3bac817",
   "metadata": {},
   "outputs": [],
   "source": [
    "# Combine and remove duplicates\n",
    "solution_final = pd.concat([solution, solution1]).drop_duplicates()"
   ]
  },
  {
   "cell_type": "code",
   "execution_count": 36,
   "id": "4287d7fd",
   "metadata": {},
   "outputs": [
    {
     "name": "stdout",
     "output_type": "stream",
     "text": [
      "The output for the required query is :\n"
     ]
    },
    {
     "data": {
      "text/html": [
       "<div>\n",
       "<style scoped>\n",
       "    .dataframe tbody tr th:only-of-type {\n",
       "        vertical-align: middle;\n",
       "    }\n",
       "\n",
       "    .dataframe tbody tr th {\n",
       "        vertical-align: top;\n",
       "    }\n",
       "\n",
       "    .dataframe thead th {\n",
       "        text-align: right;\n",
       "    }\n",
       "</style>\n",
       "<table border=\"1\" class=\"dataframe\">\n",
       "  <thead>\n",
       "    <tr style=\"text-align: right;\">\n",
       "      <th></th>\n",
       "      <th>Show_Id</th>\n",
       "      <th>Category</th>\n",
       "      <th>Title</th>\n",
       "      <th>Director</th>\n",
       "      <th>Cast</th>\n",
       "      <th>Country</th>\n",
       "      <th>Release_Date</th>\n",
       "      <th>Rating</th>\n",
       "      <th>Duration</th>\n",
       "      <th>Type</th>\n",
       "      <th>Description</th>\n",
       "      <th>Release_Month</th>\n",
       "      <th>Release_Year</th>\n",
       "    </tr>\n",
       "  </thead>\n",
       "  <tbody>\n",
       "    <tr>\n",
       "      <th>33</th>\n",
       "      <td>s34</td>\n",
       "      <td>Movie</td>\n",
       "      <td>#realityhigh</td>\n",
       "      <td>Fernando Lebrija</td>\n",
       "      <td>Nesta Cooper, Kate Walsh, John Michael Higgins...</td>\n",
       "      <td>United States</td>\n",
       "      <td>2017-09-08</td>\n",
       "      <td>TV-14</td>\n",
       "      <td>99 min</td>\n",
       "      <td>Comedies</td>\n",
       "      <td>When nerdy high schooler Dani finally attracts...</td>\n",
       "      <td>9.0</td>\n",
       "      <td>2017.0</td>\n",
       "    </tr>\n",
       "    <tr>\n",
       "      <th>72</th>\n",
       "      <td>s73</td>\n",
       "      <td>Movie</td>\n",
       "      <td>17 Again</td>\n",
       "      <td>Burr Steers</td>\n",
       "      <td>Zac Efron, Leslie Mann, Matthew Perry, Thomas ...</td>\n",
       "      <td>United States</td>\n",
       "      <td>2021-01-01</td>\n",
       "      <td>PG-13</td>\n",
       "      <td>102 min</td>\n",
       "      <td>Comedies</td>\n",
       "      <td>Nearing a midlife crisis, thirty-something Mik...</td>\n",
       "      <td>1.0</td>\n",
       "      <td>2021.0</td>\n",
       "    </tr>\n",
       "    <tr>\n",
       "      <th>84</th>\n",
       "      <td>s85</td>\n",
       "      <td>Movie</td>\n",
       "      <td>21 &amp; Over</td>\n",
       "      <td>Jon Lucas, Scott Moore</td>\n",
       "      <td>Miles Teller, Skylar Astin, Justin Chon, Sarah...</td>\n",
       "      <td>United States</td>\n",
       "      <td>2019-04-16</td>\n",
       "      <td>R</td>\n",
       "      <td>93 min</td>\n",
       "      <td>Comedies</td>\n",
       "      <td>Jeff's straight-and-narrow life changes abrupt...</td>\n",
       "      <td>4.0</td>\n",
       "      <td>2019.0</td>\n",
       "    </tr>\n",
       "    <tr>\n",
       "      <th>148</th>\n",
       "      <td>s149</td>\n",
       "      <td>Movie</td>\n",
       "      <td>A Bad Moms Christmas</td>\n",
       "      <td>Jon Lucas, Scott Moore</td>\n",
       "      <td>Mila Kunis, Kristen Bell, Kathryn Hahn, Susan ...</td>\n",
       "      <td>United States, China</td>\n",
       "      <td>2020-02-14</td>\n",
       "      <td>R</td>\n",
       "      <td>104 min</td>\n",
       "      <td>Comedies</td>\n",
       "      <td>Stressed-out moms Amy, Carla and Kiki are back...</td>\n",
       "      <td>2.0</td>\n",
       "      <td>2020.0</td>\n",
       "    </tr>\n",
       "    <tr>\n",
       "      <th>174</th>\n",
       "      <td>s175</td>\n",
       "      <td>Movie</td>\n",
       "      <td>A Futile and Stupid Gesture</td>\n",
       "      <td>David Wain</td>\n",
       "      <td>Will Forte, Domhnall Gleeson, Martin Mull, Joe...</td>\n",
       "      <td>United States</td>\n",
       "      <td>2018-01-26</td>\n",
       "      <td>TV-MA</td>\n",
       "      <td>102 min</td>\n",
       "      <td>Comedies</td>\n",
       "      <td>In a brief life full of triumph and failure, \"...</td>\n",
       "      <td>1.0</td>\n",
       "      <td>2018.0</td>\n",
       "    </tr>\n",
       "    <tr>\n",
       "      <th>...</th>\n",
       "      <td>...</td>\n",
       "      <td>...</td>\n",
       "      <td>...</td>\n",
       "      <td>...</td>\n",
       "      <td>...</td>\n",
       "      <td>...</td>\n",
       "      <td>...</td>\n",
       "      <td>...</td>\n",
       "      <td>...</td>\n",
       "      <td>...</td>\n",
       "      <td>...</td>\n",
       "      <td>...</td>\n",
       "      <td>...</td>\n",
       "    </tr>\n",
       "    <tr>\n",
       "      <th>7482</th>\n",
       "      <td>s7481</td>\n",
       "      <td>Movie</td>\n",
       "      <td>War on Everyone</td>\n",
       "      <td>John Michael McDonagh</td>\n",
       "      <td>Alexander Skarsgård, Michael Peña, Theo James,...</td>\n",
       "      <td>United Kingdom</td>\n",
       "      <td>2019-12-03</td>\n",
       "      <td>R</td>\n",
       "      <td>98 min</td>\n",
       "      <td>Action &amp; Adventure, Comedies</td>\n",
       "      <td>Terry and Bob excel at blackmailing small-time...</td>\n",
       "      <td>12.0</td>\n",
       "      <td>2019.0</td>\n",
       "    </tr>\n",
       "    <tr>\n",
       "      <th>7596</th>\n",
       "      <td>s7595</td>\n",
       "      <td>Movie</td>\n",
       "      <td>White Chamber</td>\n",
       "      <td>Paul Raschid</td>\n",
       "      <td>Shauna MacDonald, Oded Fehr, Amrita Acharia, S...</td>\n",
       "      <td>United Kingdom</td>\n",
       "      <td>2019-08-01</td>\n",
       "      <td>TV-MA</td>\n",
       "      <td>89 min</td>\n",
       "      <td>Sci-Fi &amp; Fantasy, Thrillers</td>\n",
       "      <td>When a civil war ravages the UK, a scientist a...</td>\n",
       "      <td>8.0</td>\n",
       "      <td>2019.0</td>\n",
       "    </tr>\n",
       "    <tr>\n",
       "      <th>7601</th>\n",
       "      <td>s7600</td>\n",
       "      <td>Movie</td>\n",
       "      <td>White Island</td>\n",
       "      <td>Benjamin Turner</td>\n",
       "      <td>Lyndon Ogbourne, Billy Zane, Billy Boyd, Joel ...</td>\n",
       "      <td>United Kingdom</td>\n",
       "      <td>2017-09-25</td>\n",
       "      <td>TV-MA</td>\n",
       "      <td>91 min</td>\n",
       "      <td>Comedies, Independent Movies, Thrillers</td>\n",
       "      <td>Returning to Ibiza after several years walking...</td>\n",
       "      <td>9.0</td>\n",
       "      <td>2017.0</td>\n",
       "    </tr>\n",
       "    <tr>\n",
       "      <th>7615</th>\n",
       "      <td>s7614</td>\n",
       "      <td>Movie</td>\n",
       "      <td>Why Are We Getting So Fat?</td>\n",
       "      <td>Milla Harrison-Hansley, Alicky Sussman</td>\n",
       "      <td>Giles Yeo</td>\n",
       "      <td>United Kingdom</td>\n",
       "      <td>2019-02-01</td>\n",
       "      <td>TV-14</td>\n",
       "      <td>50 min</td>\n",
       "      <td>Documentaries</td>\n",
       "      <td>A Cambridge geneticist dispels misconceptions ...</td>\n",
       "      <td>2.0</td>\n",
       "      <td>2019.0</td>\n",
       "    </tr>\n",
       "    <tr>\n",
       "      <th>7725</th>\n",
       "      <td>s7724</td>\n",
       "      <td>Movie</td>\n",
       "      <td>You Can Tutu</td>\n",
       "      <td>James Brown</td>\n",
       "      <td>Lily O'Regan, Jeannettsy Enriquez Borges, Joel...</td>\n",
       "      <td>United Kingdom</td>\n",
       "      <td>2017-12-31</td>\n",
       "      <td>TV-G</td>\n",
       "      <td>87 min</td>\n",
       "      <td>Children &amp; Family Movies</td>\n",
       "      <td>A gifted young ballet dancer struggles to find...</td>\n",
       "      <td>12.0</td>\n",
       "      <td>2017.0</td>\n",
       "    </tr>\n",
       "  </tbody>\n",
       "</table>\n",
       "<p>256 rows × 13 columns</p>\n",
       "</div>"
      ],
      "text/plain": [
       "     Show_Id Category                        Title  \\\n",
       "33       s34    Movie                 #realityhigh   \n",
       "72       s73    Movie                     17 Again   \n",
       "84       s85    Movie                    21 & Over   \n",
       "148     s149    Movie         A Bad Moms Christmas   \n",
       "174     s175    Movie  A Futile and Stupid Gesture   \n",
       "...      ...      ...                          ...   \n",
       "7482   s7481    Movie              War on Everyone   \n",
       "7596   s7595    Movie                White Chamber   \n",
       "7601   s7600    Movie                 White Island   \n",
       "7615   s7614    Movie   Why Are We Getting So Fat?   \n",
       "7725   s7724    Movie                 You Can Tutu   \n",
       "\n",
       "                                    Director  \\\n",
       "33                          Fernando Lebrija   \n",
       "72                               Burr Steers   \n",
       "84                    Jon Lucas, Scott Moore   \n",
       "148                   Jon Lucas, Scott Moore   \n",
       "174                               David Wain   \n",
       "...                                      ...   \n",
       "7482                   John Michael McDonagh   \n",
       "7596                            Paul Raschid   \n",
       "7601                         Benjamin Turner   \n",
       "7615  Milla Harrison-Hansley, Alicky Sussman   \n",
       "7725                             James Brown   \n",
       "\n",
       "                                                   Cast               Country  \\\n",
       "33    Nesta Cooper, Kate Walsh, John Michael Higgins...         United States   \n",
       "72    Zac Efron, Leslie Mann, Matthew Perry, Thomas ...         United States   \n",
       "84    Miles Teller, Skylar Astin, Justin Chon, Sarah...         United States   \n",
       "148   Mila Kunis, Kristen Bell, Kathryn Hahn, Susan ...  United States, China   \n",
       "174   Will Forte, Domhnall Gleeson, Martin Mull, Joe...         United States   \n",
       "...                                                 ...                   ...   \n",
       "7482  Alexander Skarsgård, Michael Peña, Theo James,...        United Kingdom   \n",
       "7596  Shauna MacDonald, Oded Fehr, Amrita Acharia, S...        United Kingdom   \n",
       "7601  Lyndon Ogbourne, Billy Zane, Billy Boyd, Joel ...        United Kingdom   \n",
       "7615                                          Giles Yeo        United Kingdom   \n",
       "7725  Lily O'Regan, Jeannettsy Enriquez Borges, Joel...        United Kingdom   \n",
       "\n",
       "     Release_Date Rating Duration                                     Type  \\\n",
       "33     2017-09-08  TV-14   99 min                                 Comedies   \n",
       "72     2021-01-01  PG-13  102 min                                 Comedies   \n",
       "84     2019-04-16      R   93 min                                 Comedies   \n",
       "148    2020-02-14      R  104 min                                 Comedies   \n",
       "174    2018-01-26  TV-MA  102 min                                 Comedies   \n",
       "...           ...    ...      ...                                      ...   \n",
       "7482   2019-12-03      R   98 min             Action & Adventure, Comedies   \n",
       "7596   2019-08-01  TV-MA   89 min              Sci-Fi & Fantasy, Thrillers   \n",
       "7601   2017-09-25  TV-MA   91 min  Comedies, Independent Movies, Thrillers   \n",
       "7615   2019-02-01  TV-14   50 min                            Documentaries   \n",
       "7725   2017-12-31   TV-G   87 min                 Children & Family Movies   \n",
       "\n",
       "                                            Description  Release_Month  \\\n",
       "33    When nerdy high schooler Dani finally attracts...            9.0   \n",
       "72    Nearing a midlife crisis, thirty-something Mik...            1.0   \n",
       "84    Jeff's straight-and-narrow life changes abrupt...            4.0   \n",
       "148   Stressed-out moms Amy, Carla and Kiki are back...            2.0   \n",
       "174   In a brief life full of triumph and failure, \"...            1.0   \n",
       "...                                                 ...            ...   \n",
       "7482  Terry and Bob excel at blackmailing small-time...           12.0   \n",
       "7596  When a civil war ravages the UK, a scientist a...            8.0   \n",
       "7601  Returning to Ibiza after several years walking...            9.0   \n",
       "7615  A Cambridge geneticist dispels misconceptions ...            2.0   \n",
       "7725  A gifted young ballet dancer struggles to find...           12.0   \n",
       "\n",
       "      Release_Year  \n",
       "33          2017.0  \n",
       "72          2021.0  \n",
       "84          2019.0  \n",
       "148         2020.0  \n",
       "174         2018.0  \n",
       "...            ...  \n",
       "7482        2019.0  \n",
       "7596        2019.0  \n",
       "7601        2017.0  \n",
       "7615        2019.0  \n",
       "7725        2017.0  \n",
       "\n",
       "[256 rows x 13 columns]"
      ]
     },
     "execution_count": 36,
     "metadata": {},
     "output_type": "execute_result"
    }
   ],
   "source": [
    "print(\"The output for the required query is :\")\n",
    "solution_final"
   ]
  },
  {
   "cell_type": "markdown",
   "id": "6984be98",
   "metadata": {},
   "source": [
    "8.  In how many movies/shows, Tom Holland was cast ?\n",
    "\n"
   ]
  },
  {
   "cell_type": "code",
   "execution_count": 37,
   "id": "68ebbf88",
   "metadata": {},
   "outputs": [],
   "source": [
    "\n",
    "\n",
    "def clean_list1(cast_data1):\n",
    "    if pd.isna(cast_data1):\n",
    "        return []\n",
    "    \n",
    "    if isinstance(cast_data1, str):\n",
    "        try:\n",
    "            # Try to parse as Python literal (for strings like \"['Tom Holland', 'Zendaya']\")\n",
    "            return ast.literal_eval(cast_data1)\n",
    "        except (ValueError, SyntaxError):\n",
    "            # If that fails, split by comma (for strings like \"Tom Holland, Zendaya\")\n",
    "            return [name.strip() for name in cast_data1.split(',')]\n",
    "    \n",
    "    if isinstance(cast_data1, list):\n",
    "        return cast_data1\n",
    "    \n",
    "    return [str(cast_data1)]  # Convert anything else to single-item list"
   ]
  },
  {
   "cell_type": "code",
   "execution_count": 38,
   "id": "0591d2b3",
   "metadata": {},
   "outputs": [
    {
     "name": "stdout",
     "output_type": "stream",
     "text": [
      "Tom Holland appears in 4 movies/shows\n"
     ]
    }
   ],
   "source": [
    "actor = df.copy()\n",
    "actor['Cast'] = actor['Cast'].apply(clean_list1)\n",
    "actor = actor.explode('Cast').reset_index(drop=True)  # Reset index to avoid duplicates\n",
    "\n",
    "# Clean up any remaining spaces\n",
    "actor['Cast'] = actor['Cast'].str.strip()\n",
    "\n",
    "# Now search for Tom Holland\n",
    "actor_tom = actor[actor['Cast'] == 'Tom Holland']\n",
    "print(f\"Tom Holland appears in {len(actor_tom)} movies/shows\")\n"
   ]
  },
  {
   "cell_type": "markdown",
   "id": "290f7740",
   "metadata": {},
   "source": [
    "9. What are the different Ratings defined by Netflix ?"
   ]
  },
  {
   "cell_type": "code",
   "execution_count": 39,
   "id": "c057ee6c",
   "metadata": {},
   "outputs": [],
   "source": [
    "df['Rating']=df['Rating'].apply(clean_list)\n"
   ]
  },
  {
   "cell_type": "code",
   "execution_count": 40,
   "id": "6ab60323",
   "metadata": {},
   "outputs": [
    {
     "name": "stdout",
     "output_type": "stream",
     "text": [
      "The different types of rating defined by Netflix across different tv shows and movies are :\n"
     ]
    },
    {
     "data": {
      "text/plain": [
       "Rating\n",
       "TV-MA       1666\n",
       "TV-14       1133\n",
       "R            654\n",
       "TV-PG        413\n",
       "PG-13        375\n",
       "PG           238\n",
       "TV-G          80\n",
       "TV-Y          71\n",
       "TV-Y7         69\n",
       "NR            62\n",
       "G             38\n",
       "UR             5\n",
       "TV-Y7-FV       3\n",
       "NC-17          2\n",
       "Name: count, dtype: int64"
      ]
     },
     "execution_count": 40,
     "metadata": {},
     "output_type": "execute_result"
    }
   ],
   "source": [
    "print(\"The different types of rating defined by Netflix across different tv shows and movies are :\")\n",
    "df['Rating'].value_counts()"
   ]
  },
  {
   "cell_type": "code",
   "execution_count": 41,
   "id": "0d178c25",
   "metadata": {},
   "outputs": [
    {
     "data": {
      "image/png": "[encoded data removed]",
      "text/plain": [
       "<Figure size 640x480 with 1 Axes>"
      ]
     },
     "metadata": {},
     "output_type": "display_data"
    }
   ],
   "source": [
    "# Method 2: If Rating column contains lists that need to be exploded\n",
    "df_rating = df.copy()\n",
    "df_rating['Rating'] = df_rating['Rating'].apply(clean_list)\n",
    "df_rating = df_rating.explode('Rating').reset_index(drop=True)\n",
    "rating = df_rating['Rating'].value_counts()\n",
    "\n",
    "plt.bar(rating.index, rating.values, color='blue', width=0.3, edgecolor='black')\n",
    "plt.plot(rating.index, rating.values, color='red', marker='o', linestyle='dashed')\n",
    "plt.tight_layout()  \n",
    "plt.xlabel(\"Rating\")\n",
    "plt.ylabel(\"Number of Shows\")  \n",
    "plt.title(\"The graph shows the number of shows released per rating\")\n",
    "plt.grid()\n",
    "plt.xticks(rotation=90)\n",
    "plt.show()"
   ]
  },
  {
   "cell_type": "markdown",
   "id": "06316346",
   "metadata": {},
   "source": [
    "10. What is the maximum duration of a Movie on Netflix ?"
   ]
  },
  {
   "cell_type": "code",
   "execution_count": 42,
   "id": "6acc20be",
   "metadata": {},
   "outputs": [],
   "source": [
    "#somehow messed up with the df dataset itself so I had to make a copy"
   ]
  },
  {
   "cell_type": "code",
   "execution_count": 43,
   "id": "4bc7d25c",
   "metadata": {},
   "outputs": [],
   "source": [
    "url = 'https://drive.google.com/uc?id=1bybQ1r-oXo7Zlf8f-aPCggyVRGs378PS&export=download'\n",
    "data_new = pd.read_csv(url)                     "
   ]
  },
  {
   "cell_type": "code",
   "execution_count": 44,
   "id": "b3728c42",
   "metadata": {},
   "outputs": [],
   "source": [
    "df_new=data_new.copy()"
   ]
  },
  {
   "cell_type": "code",
   "execution_count": 45,
   "id": "3c66cdac",
   "metadata": {},
   "outputs": [
    {
     "name": "stdout",
     "output_type": "stream",
     "text": [
      "Maximum duration of a Movie on Netflix: 312 minutes\n",
      "\n",
      "Movie with maximum duration:\n",
      "                     Title Duration\n",
      "Black Mirror: Bandersnatch  312 min\n"
     ]
    }
   ],
   "source": [
    "# More robust approach\n",
    "movies = df_new[df_new['Category'] == 'Movie'].copy()\n",
    "\n",
    "# Clean duration values\n",
    "def extract_minutes(duration_str):\n",
    "    if pd.isna(duration_str):\n",
    "        return None\n",
    "    # Extract numbers from string like \"123 min\"\n",
    "    import re\n",
    "    numbers = re.findall(r'\\d+', str(duration_str))\n",
    "    if numbers:\n",
    "        return int(numbers[0])\n",
    "    return None\n",
    "\n",
    "movies['Duration_Minutes'] = movies['Duration'].apply(extract_minutes)\n",
    "\n",
    "# Find maximum duration\n",
    "max_duration = movies['Duration_Minutes'].max()\n",
    "print(f\"Maximum duration of a Movie on Netflix: {max_duration} minutes\")\n",
    "\n",
    "# Find the movie with maximum duration\n",
    "max_movie = movies[movies['Duration_Minutes'] == max_duration]\n",
    "print(f\"\\nMovie with maximum duration:\")\n",
    "print(max_movie[['Title', 'Duration']].to_string(index=False))"
   ]
  },
  {
   "cell_type": "markdown",
   "id": "77ef596d",
   "metadata": {},
   "source": [
    "11. Which individual country has the Highest No. of TV Shows ?\n"
   ]
  },
  {
   "cell_type": "code",
   "execution_count": 46,
   "id": "a84bc9ac",
   "metadata": {},
   "outputs": [],
   "source": [
    "tv_shows = df_new[df_new['Category'] == 'TV Show']\n"
   ]
  },
  {
   "cell_type": "code",
   "execution_count": 47,
   "id": "f6ab33be",
   "metadata": {},
   "outputs": [
    {
     "data": {
      "text/plain": [
       "Country\n",
       "United States                                                705\n",
       "United Kingdom                                               204\n",
       "Japan                                                        157\n",
       "South Korea                                                  147\n",
       "India                                                         71\n",
       "                                                            ... \n",
       "Canada, United States, United Kingdom, France, Luxembourg      1\n",
       "United States, Italy                                           1\n",
       "Chile, Italy                                                   1\n",
       "Canada, United Kingdom                                         1\n",
       "United States, France, South Korea, Indonesia                  1\n",
       "Name: count, Length: 183, dtype: int64"
      ]
     },
     "execution_count": 47,
     "metadata": {},
     "output_type": "execute_result"
    }
   ],
   "source": [
    "tv_shows['Country'].value_counts()"
   ]
  },
  {
   "cell_type": "code",
   "execution_count": 48,
   "id": "335c8249",
   "metadata": {},
   "outputs": [
    {
     "name": "stdout",
     "output_type": "stream",
     "text": [
      "United states clearly has the highest number of TV shows on Netflix\n"
     ]
    }
   ],
   "source": [
    "print(\"United states clearly has the highest number of TV shows on Netflix\")"
   ]
  },
  {
   "cell_type": "code",
   "execution_count": null,
   "id": "950f6e33",
   "metadata": {},
   "outputs": [],
   "source": []
  }
 ],
 "metadata": {
  "kernelspec": {
   "display_name": "python_course",
   "language": "python",
   "name": "python3"
  },
  "language_info": {
   "codemirror_mode": {
    "name": "ipython",
    "version": 3
   },
   "file_extension": ".py",
   "mimetype": "text/x-python",
   "name": "python",
   "nbconvert_exporter": "python",
   "pygments_lexer": "ipython3",
   "version": "3.13.5"
  }
 },
 "nbformat": 4,
 "nbformat_minor": 5
}
